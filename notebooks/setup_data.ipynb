{
 "cells": [
  {
   "cell_type": "code",
   "execution_count": 15,
   "metadata": {},
   "outputs": [],
   "source": [
    "\"\"\"\n",
    "Generate descriptive SNBB figures that match the slide template colours.\n",
    "--------------------------------------------------------------------------\n",
    "\n",
    "Prereqs:\n",
    "    pip install matplotlib pandas numpy seaborn\n",
    "    (seaborn only used for its convenient styling helper)\n",
    "\n",
    "Replace CSV_PATH if your file lives elsewhere.\n",
    "\"\"\"\n",
    "\n",
    "import pandas as pd\n",
    "import numpy as np\n",
    "import matplotlib.pyplot as plt\n",
    "import seaborn as sns\n",
    "from pathlib import Path\n",
    "from matplotlib import font_manager as fm"
   ]
  },
  {
   "cell_type": "code",
   "execution_count": 16,
   "metadata": {},
   "outputs": [],
   "source": [
    "finished_subjects = pd.read_csv(\"/media/storage/phd/papers/aging/schaefer2018tian2020_400_7/subjects.csv\").values.flatten().tolist()"
   ]
  },
  {
   "cell_type": "code",
   "execution_count": 17,
   "metadata": {},
   "outputs": [],
   "source": [
    "SOFTWARE = \"mrtrix3\"\n",
    "ATLAS = \"schaefer2018tian2020_400_7\"\n",
    "RECONSTRUCTION = \"SDStream\"\n",
    "SCALE = \"None\"\n",
    "WEIGHT = \"SIFT2\"\n",
    "\n",
    "\n",
    "DISTRIBUTION_METRIC = \"qfmean\"\n",
    "DIFFUSION_MEASURES = [\"adc\", \"fa\", \"rd\", \"ad\"]\n",
    "STRUCTURAL_MEASURES = [\"gm_vol\"]\n",
    "CONNECTOME_MEASURES = [\n",
    "    \"degree\",\n",
    "    \"eigenvector_centrality\",\n",
    "    \"betweenness_centrality\",\n",
    "    \"degree_norm\",\n",
    "    \"regional_efficiency\",\n",
    "]\n",
    "\n",
    "COLUMNS_TO_DROP = ['study', 'group',\n",
    "       'condition', 'path', 'gender', 'sexual_orientation', 'marital_status',\n",
    "       'handedness', 'relationship_duration', 'number_of_children',\n",
    "       'exercise_frequency', 'measure', 'weight', 'height', 'education_level',\n",
    "       'psychometric_score_total', 'psychometric_score_verbal',\n",
    "       'psychometric_score_quantitative', 'psychometric_score_english',\"dob\",\"subject_id\"]"
   ]
  },
  {
   "cell_type": "code",
   "execution_count": 18,
   "metadata": {},
   "outputs": [
    {
     "name": "stdout",
     "output_type": "stream",
     "text": [
      "Processing adc\n",
      "Processing fa\n",
      "Processing rd\n",
      "Processing ad\n",
      "Processing gm_vol\n"
     ]
    }
   ],
   "source": [
    "destination = Path(f\"/media/storage/phd/papers/aging/{ATLAS}\")\n",
    "\n",
    "# unique_measures = DIFFUSION_MEASURES + STRUCTURAL_MEASURES + CONNECTOME_MEASURES\n",
    "unique_measures = DIFFUSION_MEASURES + STRUCTURAL_MEASURES\n",
    "\n",
    "\n",
    "results = {m:{} for m in unique_measures}\n",
    "\n",
    "for m in unique_measures:\n",
    "    print(f\"Processing {m}\")\n",
    "    # m = \"degree\"\n",
    "    try:\n",
    "        if m not in CONNECTOME_MEASURES:\n",
    "            m_data = pd.read_pickle(destination / f\"{m}.pkl\").reset_index(\n",
    "                drop=True\n",
    "            )\n",
    "        else:\n",
    "            m_data = pd.read_pickle(\n",
    "                destination / f\"connectome_{RECONSTRUCTION}_{SCALE}_{WEIGHT}.pkl\"\n",
    "            ).reset_index(drop=True)\n",
    "            m_data[\"measure\"] = m\n",
    "    except FileNotFoundError:\n",
    "        raise FileNotFoundError(f\"Could not find {m}.pkl. Skipping...\")\n",
    "    data = m_data.drop_duplicates(\n",
    "        subset=[\"subject_code\", \"index\"], keep=\"last\"\n",
    "    )\n",
    "    data = data[data[\"age_at_scan\"] > 18]\n",
    "    data = data[data[\"subject_code\"].isin(finished_subjects)]\n",
    "    data = data.drop(columns=COLUMNS_TO_DROP)\n",
    "    data.to_csv(f\"/home/galkepler/Projects/neuroaging/data/processed/{m}.csv\")\n",
    "    # df = collect_data(m_data, m)\n",
    "    # break"
   ]
  }
 ],
 "metadata": {
  "kernelspec": {
   "display_name": "venv",
   "language": "python",
   "name": "python3"
  },
  "language_info": {
   "codemirror_mode": {
    "name": "ipython",
    "version": 3
   },
   "file_extension": ".py",
   "mimetype": "text/x-python",
   "name": "python",
   "nbconvert_exporter": "python",
   "pygments_lexer": "ipython3",
   "version": "3.12.3"
  }
 },
 "nbformat": 4,
 "nbformat_minor": 2
}
